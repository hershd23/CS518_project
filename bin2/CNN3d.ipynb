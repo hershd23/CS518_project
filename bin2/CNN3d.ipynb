{
 "cells": [
  {
   "cell_type": "code",
   "execution_count": 1,
   "metadata": {},
   "outputs": [],
   "source": [
    "import os\n",
    "import numpy as np\n",
    "import torch\n",
    "import torch.nn as nn\n",
    "import torch.nn.functional as F\n",
    "import torchvision.models as models\n",
    "import torchvision.transforms as transforms\n",
    "import torch.utils.data as data\n",
    "import torchvision\n",
    "from torch.autograd import Variable\n",
    "import matplotlib.pyplot as plt\n",
    "from functions import *\n",
    "import pickle"
   ]
  },
  {
   "cell_type": "code",
   "execution_count": 2,
   "metadata": {},
   "outputs": [],
   "source": [
    "training_data_path = \"../data/image_data/training_data/\"    # define UCF-101 RGB data path\n",
    "validation_data_path = \"../data/image_data/validation_data/\"\n",
    "test_data_path = \"../data/image_data/test_data/\"\n",
    "save_model_path = \"./3CNN_ckpt/\"\n",
    "\n",
    "# 3D CNN parameters\n",
    "fc_hidden1, fc_hidden2 = 256, 256\n",
    "dropout = 0.25       # dropout probability\n",
    "\n",
    "# training parameters\n",
    "k = 6            # number of target category\n",
    "epochs = 15\n",
    "batch_size = 8\n",
    "learning_rate = 1e-5\n",
    "log_interval = 100\n",
    "img_x, img_y = 256, 342  # resize video 2d frame size\n",
    "\n",
    "# Select which frame to begin & end in videos\n",
    "begin_frame, end_frame, skip_frame = 1, 10, 1"
   ]
  },
  {
   "cell_type": "code",
   "execution_count": 3,
   "metadata": {},
   "outputs": [],
   "source": [
    "def train(log_interval, model, device, train_loader, optimizer, epoch):\n",
    "    # set model as training mode\n",
    "    model.train()\n",
    "\n",
    "    losses = []\n",
    "    N_count = 0   # counting total trained sample in one epoch\n",
    "    for batch_idx, (X, y) in enumerate(train_loader):\n",
    "        # distribute data to device\n",
    "        X, y = X.to(device), y.to(device)\n",
    "\n",
    "        N_count += X.size(0)\n",
    "\n",
    "        optimizer.zero_grad()\n",
    "        output = model(X)  # output size = (batch, number of classes)\n",
    "\n",
    "        criterion = nn.L1Loss()\n",
    "        loss = criterion(output, y)\n",
    "        losses.append(loss.item())\n",
    "\n",
    "\n",
    "        loss.backward()\n",
    "        optimizer.step()\n",
    "\n",
    "        # show information\n",
    "        if (batch_idx + 1) % log_interval == 0:\n",
    "            print('Train Epoch: {} [{}/{} ({:.0f}%)]\\tLoss: {:.6f}'.format(\n",
    "                epoch + 1, N_count, len(train_loader.dataset), 100. * (batch_idx + 1) / len(train_loader), loss.item()))\n",
    "\n",
    "    return losses"
   ]
  },
  {
   "cell_type": "code",
   "execution_count": 4,
   "metadata": {},
   "outputs": [],
   "source": [
    "def validation(model, device, optimizer, test_loader):\n",
    "    # set model as testing mode\n",
    "    model.eval()\n",
    "\n",
    "    test_loss = 0\n",
    "    all_y = []\n",
    "    losses = []\n",
    "    with torch.no_grad():\n",
    "        for X, y in test_loader:\n",
    "            # distribute data to device\n",
    "            X, y = X.to(device), y.to(device)\n",
    "\n",
    "            output = model(X)\n",
    "            criterion = nn.MSELoss()\n",
    "            loss = torch.sqrt(criterion(output, y))\n",
    "            losses.append(loss.item()) \n",
    "            \n",
    "            test_loss += loss# sum up batch loss\n",
    "            all_y.extend(y)\n",
    "\n",
    "    test_loss /= len(test_loader.dataset)\n",
    "\n",
    "    # show information\n",
    "    print('\\nTest set ({:d} samples): Average loss: {:.8f},\\n'.format(len(all_y), test_loss))\n",
    "\n",
    "    # save Pytorch models of best record\n",
    "    torch.save(model.state_dict(), os.path.join(save_model_path, '3dcnn_epoch{}.pth'.format(epoch + 1)))  # save spatial_encoder\n",
    "    torch.save(optimizer.state_dict(), os.path.join(save_model_path, '3dcnn_optimizer_epoch{}.pth'.format(epoch + 1)))      # save optimizer\n",
    "    print(\"Epoch {} model saved!\".format(epoch + 1))\n",
    "\n",
    "    return test_loss"
   ]
  },
  {
   "cell_type": "code",
   "execution_count": null,
   "metadata": {},
   "outputs": [],
   "source": []
  },
  {
   "cell_type": "code",
   "execution_count": 5,
   "metadata": {},
   "outputs": [],
   "source": [
    "use_cuda = torch.cuda.is_available()                   # check if GPU exists\n",
    "device = torch.device(\"cuda\" if use_cuda else \"cpu\")   # use CPU or GPU"
   ]
  },
  {
   "cell_type": "code",
   "execution_count": 6,
   "metadata": {},
   "outputs": [],
   "source": [
    "params = {'batch_size': batch_size, 'shuffle': True, 'num_workers': 0, 'pin_memory': True} if use_cuda else {}\n",
    "params2 = {'batch_size': batch_size, 'shuffle': False, 'num_workers': 0, 'pin_memory': True} if use_cuda else {}"
   ]
  },
  {
   "cell_type": "code",
   "execution_count": 7,
   "metadata": {},
   "outputs": [],
   "source": [
    "transform = transforms.Compose([transforms.Resize([img_x, img_y]),\n",
    "                                transforms.ToTensor(),\n",
    "                                transforms.Normalize(mean=[0.5], std=[0.5])])\n",
    "\n",
    "selected_frames = np.arange(begin_frame, end_frame, skip_frame).tolist()"
   ]
  },
  {
   "cell_type": "code",
   "execution_count": 8,
   "metadata": {},
   "outputs": [],
   "source": [
    "with open('../data/image_data/pickle_files/y_5d_training_all.pkl', 'rb') as file:\n",
    "    train_label = pickle.load(file)\n",
    "\n",
    "with open('../data/image_data/pickle_files/vid_ids_5d_training.pkl', 'rb') as file:\n",
    "    train_list = pickle.load(file)\n",
    "    \n",
    "with open('../data/image_data/pickle_files/y_5d_validation_all.pkl', 'rb') as file:\n",
    "    val_label = pickle.load(file)\n",
    "\n",
    "with open('../data/image_data/pickle_files/vid_ids_5d_validation.pkl', 'rb') as file:\n",
    "    val_list = pickle.load(file)\n",
    "    \n",
    "with open('../data/image_data/pickle_files/y_5d_test_all.pkl', 'rb') as file:\n",
    "    test_label = pickle.load(file)\n",
    "\n",
    "with open('../data/image_data/pickle_files/vid_ids_5d_test.pkl', 'rb') as file:\n",
    "    test_list = pickle.load(file)"
   ]
  },
  {
   "cell_type": "code",
   "execution_count": 9,
   "metadata": {},
   "outputs": [],
   "source": [
    "train_set, valid_set = Dataset_3DCNN(training_data_path, train_list, train_label, selected_frames, transform=transform), \\\n",
    "                       Dataset_3DCNN(validation_data_path, val_list, val_label, selected_frames, transform=transform)\n",
    "train_loader = data.DataLoader(train_set, **params)\n",
    "valid_loader = data.DataLoader(valid_set, **params)"
   ]
  },
  {
   "cell_type": "code",
   "execution_count": 10,
   "metadata": {},
   "outputs": [],
   "source": [
    "cnn3d = CNN3D(t_dim=len(selected_frames), img_x=img_x, img_y=img_y,\n",
    "              drop_p=dropout, fc_hidden1=fc_hidden1,  fc_hidden2=fc_hidden2, num_classes=k).to(device)"
   ]
  },
  {
   "cell_type": "code",
   "execution_count": 11,
   "metadata": {},
   "outputs": [],
   "source": [
    "epoch_train_losses = []\n",
    "epoch_train_scores = []\n",
    "epoch_test_losses = []\n",
    "epoch_test_scores = []"
   ]
  },
  {
   "cell_type": "code",
   "execution_count": 12,
   "metadata": {},
   "outputs": [],
   "source": [
    "optimizer = torch.optim.Adam(cnn3d.parameters(), lr=learning_rate)"
   ]
  },
  {
   "cell_type": "code",
   "execution_count": null,
   "metadata": {
    "scrolled": true
   },
   "outputs": [
    {
     "name": "stdout",
     "output_type": "stream",
     "text": [
      "Train Epoch: 1 [800/6000 (13%)]\tLoss: 0.058628\n",
      "Train Epoch: 1 [1600/6000 (27%)]\tLoss: 0.070702\n",
      "Train Epoch: 1 [2400/6000 (40%)]\tLoss: 0.096098\n",
      "Train Epoch: 1 [3200/6000 (53%)]\tLoss: 0.053613\n",
      "Train Epoch: 1 [4000/6000 (67%)]\tLoss: 0.066150\n",
      "Train Epoch: 1 [4800/6000 (80%)]\tLoss: 0.059569\n",
      "Train Epoch: 1 [5600/6000 (93%)]\tLoss: 0.069037\n",
      "\n",
      "Test set (2000 samples): Average loss: 0.01641507,\n",
      "\n",
      "Epoch 1 model saved!\n",
      "Train Epoch: 2 [800/6000 (13%)]\tLoss: 0.099446\n"
     ]
    }
   ],
   "source": [
    "for epoch in range(epochs):\n",
    "    # train, test model\n",
    "    train_losses = train(log_interval, cnn3d, device, train_loader, optimizer, epoch)\n",
    "    epoch_test_loss = validation(cnn3d, device, optimizer, valid_loader)\n",
    "\n",
    "    # save results\n",
    "    epoch_train_losses.append(train_losses)\n",
    "    epoch_test_losses.append(epoch_test_loss)\n",
    "\n",
    "    # save all train test results\n",
    "    A = np.array(epoch_train_losses)\n",
    "    C = np.array(epoch_test_losses)\n",
    "    np.save('./3DCNN_epoch_training_losses.npy', A)\n",
    "    np.save('./3DCNN_epoch_test_loss.npy', C)"
   ]
  },
  {
   "cell_type": "code",
   "execution_count": 13,
   "metadata": {},
   "outputs": [],
   "source": [
    "test_set = Dataset_3DCNN(test_data_path, test_list, test_label, selected_frames, transform=transform)\n",
    "test_loader = data.DataLoader(test_set, **params2)"
   ]
  },
  {
   "cell_type": "code",
   "execution_count": 14,
   "metadata": {},
   "outputs": [],
   "source": [
    "cnn3d.load_state_dict(torch.load(os.path.join(save_model_path, '3dcnn_epoch6.pth')))"
   ]
  },
  {
   "cell_type": "code",
   "execution_count": 15,
   "metadata": {},
   "outputs": [],
   "source": [
    "def Conv3d_final_prediction(model, device, loader):\n",
    "    model.eval()\n",
    "\n",
    "    all_y_pred = []\n",
    "    with torch.no_grad():\n",
    "        for batch_idx, (X, y) in enumerate(tqdm(loader)):\n",
    "            # distribute data to device\n",
    "            X = X.to(device)\n",
    "            output = model(X)  # location of max log-probability as prediction\n",
    "            all_y_pred.append(output)\n",
    "\n",
    "    return all_y_pred"
   ]
  },
  {
   "cell_type": "code",
   "execution_count": 16,
   "metadata": {},
   "outputs": [
    {
     "name": "stderr",
     "output_type": "stream",
     "text": [
      "100%|████████████████████████████████████████████████████████████████████████████████| 250/250 [02:12<00:00,  1.89it/s]\n"
     ]
    }
   ],
   "source": [
    "all_y_pred = Conv3d_final_prediction(cnn3d, device, test_loader)"
   ]
  },
  {
   "cell_type": "code",
   "execution_count": 17,
   "metadata": {},
   "outputs": [],
   "source": [
    "preds = np.zeros((2000,6))\n",
    "k = 0\n",
    "for i in range(len(all_y_pred)):\n",
    "    for j in range(len(all_y_pred[i])):\n",
    "        batch_pred = all_y_pred[i].cpu()\n",
    "        preds[k] = batch_pred[j]\n",
    "        k +=1"
   ]
  },
  {
   "cell_type": "code",
   "execution_count": 18,
   "metadata": {},
   "outputs": [
    {
     "name": "stdout",
     "output_type": "stream",
     "text": [
      "[0.89671481 0.89029761 0.89862794 0.89377466 0.89024267 0.89185574]\n",
      "0.8935855723648309\n"
     ]
    }
   ],
   "source": [
    "acc = np.zeros(6)\n",
    "for i in range(6):\n",
    "    ind = i\n",
    "    diff = abs(preds[:,ind] - test_label[:, ind])\n",
    "\n",
    "    acc[i] = 1-(np.sum(diff))/2000\n",
    "\n",
    "print(acc)\n",
    "print(np.mean(acc))"
   ]
  },
  {
   "cell_type": "code",
   "execution_count": 19,
   "metadata": {},
   "outputs": [
    {
     "name": "stdout",
     "output_type": "stream",
     "text": [
      "[[0.33284456 0.33292559 0.40149093 0.33884716 0.35862702 0.42767024]\n",
      " [0.50284159 0.46024892 0.53445357 0.53988993 0.51173186 0.53556401]\n",
      " [0.48971742 0.42621526 0.51885819 0.54728603 0.49218264 0.50409484]\n",
      " ...\n",
      " [0.42736852 0.43476221 0.49208179 0.41200674 0.46045023 0.53165376]\n",
      " [0.50587809 0.47223586 0.54459935 0.52969712 0.51694751 0.555107  ]\n",
      " [0.38999158 0.38491839 0.45206243 0.401106   0.41214404 0.47161797]]\n"
     ]
    }
   ],
   "source": [
    "print(preds)"
   ]
  },
  {
   "cell_type": "code",
   "execution_count": 20,
   "metadata": {},
   "outputs": [
    {
     "name": "stdout",
     "output_type": "stream",
     "text": [
      "[[0.45794393 0.42056075 0.65934066 0.47572816 0.5625     0.57777778]\n",
      " [0.51401869 0.53271028 0.54945055 0.5631068  0.41666667 0.65555556]\n",
      " [0.5046729  0.57943925 0.67032967 0.58252427 0.53125    0.65555556]\n",
      " ...\n",
      " [0.41121495 0.3271028  0.51648352 0.46601942 0.375      0.41111111]\n",
      " [0.62616822 0.6728972  0.59340659 0.61165049 0.71875    0.72222222]\n",
      " [0.55140187 0.62616822 0.61538462 0.3592233  0.67708333 0.65555556]]\n"
     ]
    }
   ],
   "source": [
    "print(test_label)"
   ]
  },
  {
   "cell_type": "code",
   "execution_count": null,
   "metadata": {},
   "outputs": [],
   "source": [
    "print(test_list[1])"
   ]
  },
  {
   "cell_type": "code",
   "execution_count": 102,
   "metadata": {},
   "outputs": [
    {
     "name": "stdout",
     "output_type": "stream",
     "text": [
      "20\n",
      "20\n"
     ]
    }
   ],
   "source": [
    "print(len(epoch_train_losses))\n",
    "print(len(epoch_test_losses))"
   ]
  },
  {
   "cell_type": "code",
   "execution_count": 103,
   "metadata": {},
   "outputs": [],
   "source": [
    "tl = np.asarray(epoch_train_losses)\n",
    "testl = np.asarray(epoch_test_losses)"
   ]
  },
  {
   "cell_type": "code",
   "execution_count": 104,
   "metadata": {},
   "outputs": [
    {
     "data": {
      "text/plain": [
       "array([0.0, tensor(0.0169, device='cuda:0'),\n",
       "       tensor(0.0172, device='cuda:0'), tensor(0.0201, device='cuda:0'),\n",
       "       tensor(0.0166, device='cuda:0'), tensor(0.0170, device='cuda:0'),\n",
       "       tensor(0.0166, device='cuda:0'), tensor(0.0166, device='cuda:0'),\n",
       "       tensor(0.0163, device='cuda:0'), tensor(0.0166, device='cuda:0'),\n",
       "       tensor(0.0164, device='cuda:0'), tensor(0.0167, device='cuda:0'),\n",
       "       tensor(0.0163, device='cuda:0'), tensor(0.0165, device='cuda:0'),\n",
       "       tensor(0.0167, device='cuda:0'), tensor(0.0169, device='cuda:0'),\n",
       "       tensor(0.0164, device='cuda:0'), tensor(0.0164, device='cuda:0'),\n",
       "       tensor(0.0167, device='cuda:0'), tensor(0.0162, device='cuda:0')],\n",
       "      dtype=object)"
      ]
     },
     "execution_count": 104,
     "metadata": {},
     "output_type": "execute_result"
    }
   ],
   "source": [
    "testl"
   ]
  },
  {
   "cell_type": "code",
   "execution_count": 105,
   "metadata": {},
   "outputs": [],
   "source": [
    "tl = tl[1:20]\n",
    "testl = testl[1:20]\n",
    "for i in range(len(testl)):\n",
    "    testl[i] = testl[i].cpu().numpy()\n",
    "    "
   ]
  },
  {
   "cell_type": "code",
   "execution_count": 106,
   "metadata": {},
   "outputs": [
    {
     "name": "stdout",
     "output_type": "stream",
     "text": [
      "[0.01648207 0.0155813  0.01504944 0.01410132 0.01361846 0.012498\n",
      " 0.01207017 0.01189351 0.01165818 0.01158926 0.0114268  0.01131248\n",
      " 0.01117979 0.00892136 0.00880373 0.0086598  0.00862691 0.00854248\n",
      " 0.00856755]\n",
      "[array(0.01688425, dtype=float32) array(0.01717413, dtype=float32)\n",
      " array(0.02008547, dtype=float32) array(0.01657016, dtype=float32)\n",
      " array(0.01699984, dtype=float32) array(0.01655352, dtype=float32)\n",
      " array(0.01659915, dtype=float32) array(0.0163379, dtype=float32)\n",
      " array(0.01657732, dtype=float32) array(0.01641838, dtype=float32)\n",
      " array(0.01671962, dtype=float32) array(0.01625775, dtype=float32)\n",
      " array(0.0164744, dtype=float32) array(0.0166741, dtype=float32)\n",
      " array(0.01686963, dtype=float32) array(0.01640526, dtype=float32)\n",
      " array(0.01640113, dtype=float32) array(0.01665595, dtype=float32)\n",
      " array(0.01622279, dtype=float32)]\n"
     ]
    }
   ],
   "source": [
    "trainl = np.zeros((len(tl)))\n",
    "\n",
    "for i in range(len(tl)):\n",
    "    trainl[i] = np.mean(tl[i])\n",
    "    \n",
    "trainl /= 8\n",
    "print(trainl)\n",
    "print(testl)"
   ]
  },
  {
   "cell_type": "code",
   "execution_count": 107,
   "metadata": {},
   "outputs": [
    {
     "data": {
      "text/plain": [
       "<matplotlib.legend.Legend at 0x19fee82de88>"
      ]
     },
     "execution_count": 107,
     "metadata": {},
     "output_type": "execute_result"
    },
    {
     "data": {
      "image/png": "[encoded data removed]",
      "text/plain": [
       "<Figure size 720x288 with 1 Axes>"
      ]
     },
     "metadata": {
      "needs_background": "light"
     },
     "output_type": "display_data"
    }
   ],
   "source": [
    "fig = plt.figure(figsize=(10, 4))\n",
    "plt.subplot(121)\n",
    "plt.plot(np.arange(1, len(testl) + 1), trainl)  # train loss (on epoch end)\n",
    "plt.plot(np.arange(1, len(testl) + 1), testl)         #  test loss (on epoch end)\n",
    "plt.title(\"model loss\")\n",
    "plt.xlabel('epochs')\n",
    "plt.ylabel('loss')\n",
    "plt.legend(['train', 'test'], loc=\"upper left\")\n",
    "\n"
   ]
  },
  {
   "cell_type": "code",
   "execution_count": 110,
   "metadata": {},
   "outputs": [],
   "source": [
    "fig.savefig('CNN3d.png')"
   ]
  },
  {
   "cell_type": "code",
   "execution_count": 122,
   "metadata": {},
   "outputs": [
    {
     "name": "stdout",
     "output_type": "stream",
     "text": [
      "VuadgOz6T7s.004.mp4\n",
      "[0.39640063 0.39109632 0.45095205 0.4061265  0.41558078 0.47275183]\n",
      "[0.17757009 0.18691589 0.28571429 0.22330097 0.16666667 0.21111111]\n"
     ]
    }
   ],
   "source": [
    "i=1729\n",
    "\n",
    "print(test_list[i])\n",
    "print(preds[i])\n",
    "print(test_label[i])"
   ]
  },
  {
   "cell_type": "code",
   "execution_count": null,
   "metadata": {},
   "outputs": [],
   "source": []
  }
 ],
 "metadata": {
  "kernelspec": {
   "display_name": "Pytorch",
   "language": "python",
   "name": "pytorch_test"
  },
  "language_info": {
   "codemirror_mode": {
    "name": "ipython",
    "version": 3
   },
   "file_extension": ".py",
   "mimetype": "text/x-python",
   "name": "python",
   "nbconvert_exporter": "python",
   "pygments_lexer": "ipython3",
   "version": "3.7.5"
  }
 },
 "nbformat": 4,
 "nbformat_minor": 2
}
